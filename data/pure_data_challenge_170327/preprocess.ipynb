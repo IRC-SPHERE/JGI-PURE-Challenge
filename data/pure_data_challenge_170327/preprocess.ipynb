{
 "cells": [
  {
   "cell_type": "code",
   "execution_count": 1,
   "metadata": {
    "collapsed": true
   },
   "outputs": [],
   "source": [
    "import numpy as np\n",
    "import scipy as sp\n",
    "import pandas as pd\n",
    "import matplotlib as plt"
   ]
  },
  {
   "cell_type": "code",
   "execution_count": 49,
   "metadata": {
    "collapsed": true
   },
   "outputs": [],
   "source": [
    "from os import listdir\n",
    "import itertools"
   ]
  },
  {
   "cell_type": "code",
   "execution_count": 21,
   "metadata": {
    "collapsed": false
   },
   "outputs": [],
   "source": [
    "#import gensim"
   ]
  },
  {
   "cell_type": "code",
   "execution_count": 5,
   "metadata": {
    "collapsed": true
   },
   "outputs": [],
   "source": [
    "%matplotlib inline"
   ]
  },
  {
   "cell_type": "code",
   "execution_count": 6,
   "metadata": {
    "collapsed": true
   },
   "outputs": [],
   "source": [
    "path = './data/'"
   ]
  },
  {
   "cell_type": "code",
   "execution_count": 7,
   "metadata": {
    "collapsed": false
   },
   "outputs": [
    {
     "data": {
      "text/plain": [
       "['170327 PURE Data Challenge Powerpoint.pdf',\n",
       " 'org_hierarchy.csv',\n",
       " 'readme.txt',\n",
       " 'outputs.csv',\n",
       " 'org_key.csv',\n",
       " 'authors.csv',\n",
       " 'staff.csv',\n",
       " 'JGI-PURE Data Challenge Information Sheet.pdf']"
      ]
     },
     "execution_count": 7,
     "metadata": {},
     "output_type": "execute_result"
    }
   ],
   "source": [
    "files = listdir(path)\n",
    "files"
   ]
  },
  {
   "cell_type": "code",
   "execution_count": 8,
   "metadata": {
    "collapsed": false
   },
   "outputs": [
    {
     "name": "stdout",
     "output_type": "stream",
     "text": [
      "org_hierarchy\n",
      "(447, 2)\n",
      "outputs\n",
      "(34123, 9)\n",
      "org_key\n",
      "(448, 5)\n",
      "authors\n",
      "(45706, 3)\n",
      "staff\n",
      "(8328, 9)\n"
     ]
    }
   ],
   "source": [
    "for s in files:\n",
    "    if 'csv' in s:\n",
    "        exec(\"%s=pd.read_csv(path+s)\" % (s[:-4]))\n",
    "        exec(\"%s = %s.fillna(0)\" % (s[:-4], s[:-4]))\n",
    "        print s[:-4]\n",
    "        exec(\"print %s.shape\" % (s[:-4]))"
   ]
  },
  {
   "cell_type": "code",
   "execution_count": 25,
   "metadata": {
    "collapsed": false
   },
   "outputs": [
    {
     "data": {
      "text/html": [
       "<div>\n",
       "<table border=\"1\" class=\"dataframe\">\n",
       "  <thead>\n",
       "    <tr style=\"text-align: right;\">\n",
       "      <th></th>\n",
       "      <th>PERSON_ID</th>\n",
       "      <th>PUBLICATION_ID</th>\n",
       "      <th>PUBLISHED_NAME_x</th>\n",
       "      <th>PUBLISHED_NAME_y</th>\n",
       "      <th>FORENAME</th>\n",
       "      <th>SURNAME</th>\n",
       "      <th>ORGANISATION_CODE</th>\n",
       "      <th>TYPE</th>\n",
       "      <th>JOB_TITLE</th>\n",
       "      <th>START_DATE</th>\n",
       "      <th>END_DATE</th>\n",
       "    </tr>\n",
       "  </thead>\n",
       "  <tbody>\n",
       "    <tr>\n",
       "      <th>0</th>\n",
       "      <td>7761</td>\n",
       "      <td>2449478</td>\n",
       "      <td>AJ Bailey</td>\n",
       "      <td>AJ Bailey</td>\n",
       "      <td>Allen</td>\n",
       "      <td>Bailey</td>\n",
       "      <td>VESC</td>\n",
       "      <td>staff</td>\n",
       "      <td>Emeritus Professor in Biochemistry, Muscle &amp; C...</td>\n",
       "      <td>01/04/1996</td>\n",
       "      <td>31/12/2199</td>\n",
       "    </tr>\n",
       "    <tr>\n",
       "      <th>1</th>\n",
       "      <td>7761</td>\n",
       "      <td>2448863</td>\n",
       "      <td>AJ Bailey</td>\n",
       "      <td>AJ Bailey</td>\n",
       "      <td>Allen</td>\n",
       "      <td>Bailey</td>\n",
       "      <td>VESC</td>\n",
       "      <td>staff</td>\n",
       "      <td>Emeritus Professor in Biochemistry, Muscle &amp; C...</td>\n",
       "      <td>01/04/1996</td>\n",
       "      <td>31/12/2199</td>\n",
       "    </tr>\n",
       "    <tr>\n",
       "      <th>2</th>\n",
       "      <td>6028</td>\n",
       "      <td>2459679</td>\n",
       "      <td>LC Brown</td>\n",
       "      <td>Laurinda C Brown</td>\n",
       "      <td>Laurinda</td>\n",
       "      <td>Brown</td>\n",
       "      <td>EDUC</td>\n",
       "      <td>staff</td>\n",
       "      <td>Reader in Mathematics Teacher Education</td>\n",
       "      <td>01/08/2015</td>\n",
       "      <td>31/12/2019</td>\n",
       "    </tr>\n",
       "    <tr>\n",
       "      <th>3</th>\n",
       "      <td>6028</td>\n",
       "      <td>2459679</td>\n",
       "      <td>LC Brown</td>\n",
       "      <td>LC Brown</td>\n",
       "      <td>Laurinda</td>\n",
       "      <td>Brown</td>\n",
       "      <td>EDUC</td>\n",
       "      <td>staff</td>\n",
       "      <td>Reader in Mathematics Teacher Education</td>\n",
       "      <td>01/08/2015</td>\n",
       "      <td>31/12/2019</td>\n",
       "    </tr>\n",
       "    <tr>\n",
       "      <th>4</th>\n",
       "      <td>6028</td>\n",
       "      <td>2459679</td>\n",
       "      <td>LC Brown</td>\n",
       "      <td>L.C Brown</td>\n",
       "      <td>Laurinda</td>\n",
       "      <td>Brown</td>\n",
       "      <td>EDUC</td>\n",
       "      <td>staff</td>\n",
       "      <td>Reader in Mathematics Teacher Education</td>\n",
       "      <td>01/08/2015</td>\n",
       "      <td>31/12/2019</td>\n",
       "    </tr>\n",
       "  </tbody>\n",
       "</table>\n",
       "</div>"
      ],
      "text/plain": [
       "   PERSON_ID  PUBLICATION_ID PUBLISHED_NAME_x  PUBLISHED_NAME_y  FORENAME  \\\n",
       "0       7761         2449478        AJ Bailey         AJ Bailey     Allen   \n",
       "1       7761         2448863        AJ Bailey         AJ Bailey     Allen   \n",
       "2       6028         2459679         LC Brown  Laurinda C Brown  Laurinda   \n",
       "3       6028         2459679         LC Brown          LC Brown  Laurinda   \n",
       "4       6028         2459679         LC Brown         L.C Brown  Laurinda   \n",
       "\n",
       "  SURNAME ORGANISATION_CODE   TYPE  \\\n",
       "0  Bailey              VESC  staff   \n",
       "1  Bailey              VESC  staff   \n",
       "2   Brown              EDUC  staff   \n",
       "3   Brown              EDUC  staff   \n",
       "4   Brown              EDUC  staff   \n",
       "\n",
       "                                           JOB_TITLE  START_DATE    END_DATE  \n",
       "0  Emeritus Professor in Biochemistry, Muscle & C...  01/04/1996  31/12/2199  \n",
       "1  Emeritus Professor in Biochemistry, Muscle & C...  01/04/1996  31/12/2199  \n",
       "2            Reader in Mathematics Teacher Education  01/08/2015  31/12/2019  \n",
       "3            Reader in Mathematics Teacher Education  01/08/2015  31/12/2019  \n",
       "4            Reader in Mathematics Teacher Education  01/08/2015  31/12/2019  "
      ]
     },
     "execution_count": 25,
     "metadata": {},
     "output_type": "execute_result"
    }
   ],
   "source": [
    "people.head()"
   ]
  },
  {
   "cell_type": "code",
   "execution_count": 23,
   "metadata": {
    "collapsed": false
   },
   "outputs": [],
   "source": [
    "people = pd.merge(authors,staff, on='PERSON_ID')"
   ]
  },
  {
   "cell_type": "code",
   "execution_count": 10,
   "metadata": {
    "collapsed": false
   },
   "outputs": [],
   "source": []
  },
  {
   "cell_type": "code",
   "execution_count": 12,
   "metadata": {
    "collapsed": false
   },
   "outputs": [
    {
     "data": {
      "text/plain": [
       "(101, 1)"
      ]
     },
     "execution_count": 12,
     "metadata": {},
     "output_type": "execute_result"
    }
   ],
   "source": [
    "orgs = pd.DataFrame()\n",
    "orgs['ORGANISATION_CODE'] = staff.ORGANISATION_CODE.unique()\n",
    "orgs.shape"
   ]
  },
  {
   "cell_type": "code",
   "execution_count": 13,
   "metadata": {
    "collapsed": true
   },
   "outputs": [],
   "source": [
    "orgs['PARENT_CODE']=' '\n",
    "orgs['ORGANISATION_TYPE']=' '\n",
    "orgs['FULL_NAME']=' '\n",
    "for org in orgs.ORGANISATION_CODE.values:\n",
    "    orgs.loc[orgs.ORGANISATION_CODE==org,'PARENT_CODE'] = org_hierarchy.loc[org_hierarchy.CHILD_ORG_CODE==org,'PARENT_ORG_CODE'].values\n",
    "    orgs.loc[orgs.ORGANISATION_CODE==org,['ORGANISATION_TYPE','FULL_NAME']] = org_key.loc[org_key.ORGANISATION_CODE==org,['ORGANISATION_TYPE','FULL_NAME']].values"
   ]
  },
  {
   "cell_type": "code",
   "execution_count": 14,
   "metadata": {
    "collapsed": true
   },
   "outputs": [],
   "source": [
    "orgs['GRANDPARENT_CODE']=' '\n",
    "for org in orgs.PARENT_CODE.unique():\n",
    "    orgs.loc[orgs.PARENT_CODE==org,'GRANDPARENT_CODE']=org_hierarchy.loc[org_hierarchy.CHILD_ORG_CODE==org,'PARENT_ORG_CODE'].values"
   ]
  },
  {
   "cell_type": "code",
   "execution_count": 15,
   "metadata": {
    "collapsed": false
   },
   "outputs": [
    {
     "data": {
      "text/html": [
       "<div>\n",
       "<table border=\"1\" class=\"dataframe\">\n",
       "  <thead>\n",
       "    <tr style=\"text-align: right;\">\n",
       "      <th></th>\n",
       "      <th>ORGANISATION_CODE</th>\n",
       "      <th>PARENT_CODE</th>\n",
       "      <th>ORGANISATION_TYPE</th>\n",
       "      <th>FULL_NAME</th>\n",
       "      <th>GRANDPARENT_CODE</th>\n",
       "    </tr>\n",
       "  </thead>\n",
       "  <tbody>\n",
       "    <tr>\n",
       "      <th>0</th>\n",
       "      <td>ENGL</td>\n",
       "      <td>HUMS</td>\n",
       "      <td>ACADEMIC DEPARTMENT</td>\n",
       "      <td>Department of English</td>\n",
       "      <td>FOAT</td>\n",
       "    </tr>\n",
       "    <tr>\n",
       "      <th>1</th>\n",
       "      <td>CHEM</td>\n",
       "      <td>FSCI</td>\n",
       "      <td>ACADEMIC SCHOOL</td>\n",
       "      <td>School of Chemistry</td>\n",
       "      <td>ACAD</td>\n",
       "    </tr>\n",
       "    <tr>\n",
       "      <th>2</th>\n",
       "      <td>SPAI</td>\n",
       "      <td>FSSL</td>\n",
       "      <td>ACADEMIC SCHOOL</td>\n",
       "      <td>School of Sociology, Politics and Internationa...</td>\n",
       "      <td>ACAD</td>\n",
       "    </tr>\n",
       "    <tr>\n",
       "      <th>3</th>\n",
       "      <td>HIST</td>\n",
       "      <td>HUMS</td>\n",
       "      <td>ACADEMIC DEPARTMENT</td>\n",
       "      <td>Department of History (Historical Studies)</td>\n",
       "      <td>FOAT</td>\n",
       "    </tr>\n",
       "    <tr>\n",
       "      <th>4</th>\n",
       "      <td>SOCS</td>\n",
       "      <td>FMDY</td>\n",
       "      <td>ACADEMIC SCHOOL</td>\n",
       "      <td>School of Clinical Sciences</td>\n",
       "      <td>ACAD</td>\n",
       "    </tr>\n",
       "  </tbody>\n",
       "</table>\n",
       "</div>"
      ],
      "text/plain": [
       "  ORGANISATION_CODE PARENT_CODE    ORGANISATION_TYPE  \\\n",
       "0              ENGL        HUMS  ACADEMIC DEPARTMENT   \n",
       "1              CHEM        FSCI      ACADEMIC SCHOOL   \n",
       "2              SPAI        FSSL      ACADEMIC SCHOOL   \n",
       "3              HIST        HUMS  ACADEMIC DEPARTMENT   \n",
       "4              SOCS        FMDY      ACADEMIC SCHOOL   \n",
       "\n",
       "                                           FULL_NAME GRANDPARENT_CODE  \n",
       "0                              Department of English             FOAT  \n",
       "1                                School of Chemistry             ACAD  \n",
       "2  School of Sociology, Politics and Internationa...             ACAD  \n",
       "3         Department of History (Historical Studies)             FOAT  \n",
       "4                        School of Clinical Sciences             ACAD  "
      ]
     },
     "execution_count": 15,
     "metadata": {},
     "output_type": "execute_result"
    }
   ],
   "source": [
    "orgs.head()"
   ]
  },
  {
   "cell_type": "code",
   "execution_count": 27,
   "metadata": {
    "collapsed": false
   },
   "outputs": [
    {
     "data": {
      "text/html": [
       "<div>\n",
       "<table border=\"1\" class=\"dataframe\">\n",
       "  <thead>\n",
       "    <tr style=\"text-align: right;\">\n",
       "      <th></th>\n",
       "      <th>PERSON_ID</th>\n",
       "      <th>PUBLICATION_ID</th>\n",
       "      <th>PUBLISHED_NAME_x</th>\n",
       "      <th>PUBLISHED_NAME_y</th>\n",
       "      <th>FORENAME</th>\n",
       "      <th>SURNAME</th>\n",
       "      <th>ORGANISATION_CODE</th>\n",
       "      <th>TYPE</th>\n",
       "      <th>JOB_TITLE</th>\n",
       "      <th>START_DATE</th>\n",
       "      <th>END_DATE</th>\n",
       "      <th>PARENT_CODE</th>\n",
       "      <th>ORGANISATION_TYPE</th>\n",
       "      <th>FULL_NAME</th>\n",
       "      <th>GRANDPARENT_CODE</th>\n",
       "    </tr>\n",
       "  </thead>\n",
       "  <tbody>\n",
       "    <tr>\n",
       "      <th>0</th>\n",
       "      <td>7761</td>\n",
       "      <td>2449478</td>\n",
       "      <td>AJ Bailey</td>\n",
       "      <td>AJ Bailey</td>\n",
       "      <td>Allen</td>\n",
       "      <td>Bailey</td>\n",
       "      <td>VESC</td>\n",
       "      <td>staff</td>\n",
       "      <td>Emeritus Professor in Biochemistry, Muscle &amp; C...</td>\n",
       "      <td>01/04/1996</td>\n",
       "      <td>31/12/2199</td>\n",
       "      <td>FMDY</td>\n",
       "      <td>ACADEMIC SCHOOL</td>\n",
       "      <td>School of Veterinary Sciences</td>\n",
       "      <td>ACAD</td>\n",
       "    </tr>\n",
       "    <tr>\n",
       "      <th>1</th>\n",
       "      <td>7761</td>\n",
       "      <td>2448863</td>\n",
       "      <td>AJ Bailey</td>\n",
       "      <td>AJ Bailey</td>\n",
       "      <td>Allen</td>\n",
       "      <td>Bailey</td>\n",
       "      <td>VESC</td>\n",
       "      <td>staff</td>\n",
       "      <td>Emeritus Professor in Biochemistry, Muscle &amp; C...</td>\n",
       "      <td>01/04/1996</td>\n",
       "      <td>31/12/2199</td>\n",
       "      <td>FMDY</td>\n",
       "      <td>ACADEMIC SCHOOL</td>\n",
       "      <td>School of Veterinary Sciences</td>\n",
       "      <td>ACAD</td>\n",
       "    </tr>\n",
       "    <tr>\n",
       "      <th>2</th>\n",
       "      <td>25435</td>\n",
       "      <td>2777706</td>\n",
       "      <td>MJ Toscano</td>\n",
       "      <td>Michael J Toscano</td>\n",
       "      <td>Michael</td>\n",
       "      <td>Toscano</td>\n",
       "      <td>VESC</td>\n",
       "      <td>staff</td>\n",
       "      <td>Research Fellow</td>\n",
       "      <td>01/11/2016</td>\n",
       "      <td>30/11/2018</td>\n",
       "      <td>FMDY</td>\n",
       "      <td>ACADEMIC SCHOOL</td>\n",
       "      <td>School of Veterinary Sciences</td>\n",
       "      <td>ACAD</td>\n",
       "    </tr>\n",
       "    <tr>\n",
       "      <th>3</th>\n",
       "      <td>25435</td>\n",
       "      <td>2777706</td>\n",
       "      <td>MJ Toscano</td>\n",
       "      <td>M Toscano</td>\n",
       "      <td>Michael</td>\n",
       "      <td>Toscano</td>\n",
       "      <td>VESC</td>\n",
       "      <td>staff</td>\n",
       "      <td>Research Fellow</td>\n",
       "      <td>01/11/2016</td>\n",
       "      <td>30/11/2018</td>\n",
       "      <td>FMDY</td>\n",
       "      <td>ACADEMIC SCHOOL</td>\n",
       "      <td>School of Veterinary Sciences</td>\n",
       "      <td>ACAD</td>\n",
       "    </tr>\n",
       "    <tr>\n",
       "      <th>4</th>\n",
       "      <td>25435</td>\n",
       "      <td>2777706</td>\n",
       "      <td>MJ Toscano</td>\n",
       "      <td>MJ Toscano</td>\n",
       "      <td>Michael</td>\n",
       "      <td>Toscano</td>\n",
       "      <td>VESC</td>\n",
       "      <td>staff</td>\n",
       "      <td>Research Fellow</td>\n",
       "      <td>01/11/2016</td>\n",
       "      <td>30/11/2018</td>\n",
       "      <td>FMDY</td>\n",
       "      <td>ACADEMIC SCHOOL</td>\n",
       "      <td>School of Veterinary Sciences</td>\n",
       "      <td>ACAD</td>\n",
       "    </tr>\n",
       "  </tbody>\n",
       "</table>\n",
       "</div>"
      ],
      "text/plain": [
       "   PERSON_ID  PUBLICATION_ID PUBLISHED_NAME_x   PUBLISHED_NAME_y FORENAME  \\\n",
       "0       7761         2449478        AJ Bailey          AJ Bailey    Allen   \n",
       "1       7761         2448863        AJ Bailey          AJ Bailey    Allen   \n",
       "2      25435         2777706       MJ Toscano  Michael J Toscano  Michael   \n",
       "3      25435         2777706       MJ Toscano          M Toscano  Michael   \n",
       "4      25435         2777706       MJ Toscano         MJ Toscano  Michael   \n",
       "\n",
       "   SURNAME ORGANISATION_CODE   TYPE  \\\n",
       "0   Bailey              VESC  staff   \n",
       "1   Bailey              VESC  staff   \n",
       "2  Toscano              VESC  staff   \n",
       "3  Toscano              VESC  staff   \n",
       "4  Toscano              VESC  staff   \n",
       "\n",
       "                                           JOB_TITLE  START_DATE    END_DATE  \\\n",
       "0  Emeritus Professor in Biochemistry, Muscle & C...  01/04/1996  31/12/2199   \n",
       "1  Emeritus Professor in Biochemistry, Muscle & C...  01/04/1996  31/12/2199   \n",
       "2                                    Research Fellow  01/11/2016  30/11/2018   \n",
       "3                                    Research Fellow  01/11/2016  30/11/2018   \n",
       "4                                    Research Fellow  01/11/2016  30/11/2018   \n",
       "\n",
       "  PARENT_CODE ORGANISATION_TYPE                      FULL_NAME  \\\n",
       "0        FMDY   ACADEMIC SCHOOL  School of Veterinary Sciences   \n",
       "1        FMDY   ACADEMIC SCHOOL  School of Veterinary Sciences   \n",
       "2        FMDY   ACADEMIC SCHOOL  School of Veterinary Sciences   \n",
       "3        FMDY   ACADEMIC SCHOOL  School of Veterinary Sciences   \n",
       "4        FMDY   ACADEMIC SCHOOL  School of Veterinary Sciences   \n",
       "\n",
       "  GRANDPARENT_CODE  \n",
       "0             ACAD  \n",
       "1             ACAD  \n",
       "2             ACAD  \n",
       "3             ACAD  \n",
       "4             ACAD  "
      ]
     },
     "execution_count": 27,
     "metadata": {},
     "output_type": "execute_result"
    }
   ],
   "source": [
    "people_orgs = pd.merge(people,orgs, on='ORGANISATION_CODE')\n",
    "people_orgs.head()"
   ]
  },
  {
   "cell_type": "code",
   "execution_count": 39,
   "metadata": {
    "collapsed": false
   },
   "outputs": [
    {
     "data": {
      "text/html": [
       "<div>\n",
       "<table border=\"1\" class=\"dataframe\">\n",
       "  <thead>\n",
       "    <tr style=\"text-align: right;\">\n",
       "      <th></th>\n",
       "      <th>PERSON_ID</th>\n",
       "      <th>PUBLICATION_ID</th>\n",
       "      <th>PUBLISHED_NAME_x</th>\n",
       "      <th>PUBLISHED_NAME_y</th>\n",
       "      <th>FORENAME</th>\n",
       "      <th>SURNAME</th>\n",
       "      <th>ORGANISATION_CODE</th>\n",
       "      <th>TYPE_x</th>\n",
       "      <th>JOB_TITLE</th>\n",
       "      <th>START_DATE</th>\n",
       "      <th>...</th>\n",
       "      <th>FULL_NAME</th>\n",
       "      <th>GRANDPARENT_CODE</th>\n",
       "      <th>TITLE</th>\n",
       "      <th>TYPE_NO</th>\n",
       "      <th>TYPE_y</th>\n",
       "      <th>PUBLICATION_DAY</th>\n",
       "      <th>PUBLICATION_MONTH</th>\n",
       "      <th>PUBLICATION_YEAR</th>\n",
       "      <th>KEYWORDS</th>\n",
       "      <th>ABSTRACT</th>\n",
       "    </tr>\n",
       "  </thead>\n",
       "  <tbody>\n",
       "    <tr>\n",
       "      <th>0</th>\n",
       "      <td>7761</td>\n",
       "      <td>2449478</td>\n",
       "      <td>AJ Bailey</td>\n",
       "      <td>AJ Bailey</td>\n",
       "      <td>Allen</td>\n",
       "      <td>Bailey</td>\n",
       "      <td>VESC</td>\n",
       "      <td>staff</td>\n",
       "      <td>Emeritus Professor in Biochemistry, Muscle &amp; C...</td>\n",
       "      <td>01/04/1996</td>\n",
       "      <td>...</td>\n",
       "      <td>School of Veterinary Sciences</td>\n",
       "      <td>ACAD</td>\n",
       "      <td>Quantitative determination of collagen cross-l...</td>\n",
       "      <td>5005</td>\n",
       "      <td>contributiontobookanthology/chapter</td>\n",
       "      <td>0.0</td>\n",
       "      <td>0.0</td>\n",
       "      <td>2009</td>\n",
       "      <td>0</td>\n",
       "      <td>0</td>\n",
       "    </tr>\n",
       "    <tr>\n",
       "      <th>1</th>\n",
       "      <td>7761</td>\n",
       "      <td>2448863</td>\n",
       "      <td>AJ Bailey</td>\n",
       "      <td>AJ Bailey</td>\n",
       "      <td>Allen</td>\n",
       "      <td>Bailey</td>\n",
       "      <td>VESC</td>\n",
       "      <td>staff</td>\n",
       "      <td>Emeritus Professor in Biochemistry, Muscle &amp; C...</td>\n",
       "      <td>01/04/1996</td>\n",
       "      <td>...</td>\n",
       "      <td>School of Veterinary Sciences</td>\n",
       "      <td>ACAD</td>\n",
       "      <td>Collagen in its fibrillar state is protected f...</td>\n",
       "      <td>5086</td>\n",
       "      <td>contributiontojournal/article</td>\n",
       "      <td>0.0</td>\n",
       "      <td>3.0</td>\n",
       "      <td>2008</td>\n",
       "      <td>0</td>\n",
       "      <td>0</td>\n",
       "    </tr>\n",
       "    <tr>\n",
       "      <th>2</th>\n",
       "      <td>25435</td>\n",
       "      <td>2777706</td>\n",
       "      <td>MJ Toscano</td>\n",
       "      <td>Michael J Toscano</td>\n",
       "      <td>Michael</td>\n",
       "      <td>Toscano</td>\n",
       "      <td>VESC</td>\n",
       "      <td>staff</td>\n",
       "      <td>Research Fellow</td>\n",
       "      <td>01/11/2016</td>\n",
       "      <td>...</td>\n",
       "      <td>School of Veterinary Sciences</td>\n",
       "      <td>ACAD</td>\n",
       "      <td>Dietary long chain omega-3 polyunsaturated fat...</td>\n",
       "      <td>5011</td>\n",
       "      <td>contributiontobookanthology/conference</td>\n",
       "      <td>0.0</td>\n",
       "      <td>0.0</td>\n",
       "      <td>2011</td>\n",
       "      <td>0</td>\n",
       "      <td>0</td>\n",
       "    </tr>\n",
       "    <tr>\n",
       "      <th>3</th>\n",
       "      <td>25435</td>\n",
       "      <td>2777706</td>\n",
       "      <td>MJ Toscano</td>\n",
       "      <td>M Toscano</td>\n",
       "      <td>Michael</td>\n",
       "      <td>Toscano</td>\n",
       "      <td>VESC</td>\n",
       "      <td>staff</td>\n",
       "      <td>Research Fellow</td>\n",
       "      <td>01/11/2016</td>\n",
       "      <td>...</td>\n",
       "      <td>School of Veterinary Sciences</td>\n",
       "      <td>ACAD</td>\n",
       "      <td>Dietary long chain omega-3 polyunsaturated fat...</td>\n",
       "      <td>5011</td>\n",
       "      <td>contributiontobookanthology/conference</td>\n",
       "      <td>0.0</td>\n",
       "      <td>0.0</td>\n",
       "      <td>2011</td>\n",
       "      <td>0</td>\n",
       "      <td>0</td>\n",
       "    </tr>\n",
       "    <tr>\n",
       "      <th>4</th>\n",
       "      <td>25435</td>\n",
       "      <td>2777706</td>\n",
       "      <td>MJ Toscano</td>\n",
       "      <td>MJ Toscano</td>\n",
       "      <td>Michael</td>\n",
       "      <td>Toscano</td>\n",
       "      <td>VESC</td>\n",
       "      <td>staff</td>\n",
       "      <td>Research Fellow</td>\n",
       "      <td>01/11/2016</td>\n",
       "      <td>...</td>\n",
       "      <td>School of Veterinary Sciences</td>\n",
       "      <td>ACAD</td>\n",
       "      <td>Dietary long chain omega-3 polyunsaturated fat...</td>\n",
       "      <td>5011</td>\n",
       "      <td>contributiontobookanthology/conference</td>\n",
       "      <td>0.0</td>\n",
       "      <td>0.0</td>\n",
       "      <td>2011</td>\n",
       "      <td>0</td>\n",
       "      <td>0</td>\n",
       "    </tr>\n",
       "  </tbody>\n",
       "</table>\n",
       "<p>5 rows × 23 columns</p>\n",
       "</div>"
      ],
      "text/plain": [
       "   PERSON_ID  PUBLICATION_ID PUBLISHED_NAME_x   PUBLISHED_NAME_y FORENAME  \\\n",
       "0       7761         2449478        AJ Bailey          AJ Bailey    Allen   \n",
       "1       7761         2448863        AJ Bailey          AJ Bailey    Allen   \n",
       "2      25435         2777706       MJ Toscano  Michael J Toscano  Michael   \n",
       "3      25435         2777706       MJ Toscano          M Toscano  Michael   \n",
       "4      25435         2777706       MJ Toscano         MJ Toscano  Michael   \n",
       "\n",
       "   SURNAME ORGANISATION_CODE TYPE_x  \\\n",
       "0   Bailey              VESC  staff   \n",
       "1   Bailey              VESC  staff   \n",
       "2  Toscano              VESC  staff   \n",
       "3  Toscano              VESC  staff   \n",
       "4  Toscano              VESC  staff   \n",
       "\n",
       "                                           JOB_TITLE  START_DATE    ...     \\\n",
       "0  Emeritus Professor in Biochemistry, Muscle & C...  01/04/1996    ...      \n",
       "1  Emeritus Professor in Biochemistry, Muscle & C...  01/04/1996    ...      \n",
       "2                                    Research Fellow  01/11/2016    ...      \n",
       "3                                    Research Fellow  01/11/2016    ...      \n",
       "4                                    Research Fellow  01/11/2016    ...      \n",
       "\n",
       "                       FULL_NAME GRANDPARENT_CODE  \\\n",
       "0  School of Veterinary Sciences             ACAD   \n",
       "1  School of Veterinary Sciences             ACAD   \n",
       "2  School of Veterinary Sciences             ACAD   \n",
       "3  School of Veterinary Sciences             ACAD   \n",
       "4  School of Veterinary Sciences             ACAD   \n",
       "\n",
       "                                               TITLE TYPE_NO  \\\n",
       "0  Quantitative determination of collagen cross-l...    5005   \n",
       "1  Collagen in its fibrillar state is protected f...    5086   \n",
       "2  Dietary long chain omega-3 polyunsaturated fat...    5011   \n",
       "3  Dietary long chain omega-3 polyunsaturated fat...    5011   \n",
       "4  Dietary long chain omega-3 polyunsaturated fat...    5011   \n",
       "\n",
       "                                   TYPE_y PUBLICATION_DAY  PUBLICATION_MONTH  \\\n",
       "0     contributiontobookanthology/chapter             0.0                0.0   \n",
       "1           contributiontojournal/article             0.0                3.0   \n",
       "2  contributiontobookanthology/conference             0.0                0.0   \n",
       "3  contributiontobookanthology/conference             0.0                0.0   \n",
       "4  contributiontobookanthology/conference             0.0                0.0   \n",
       "\n",
       "  PUBLICATION_YEAR  KEYWORDS  ABSTRACT  \n",
       "0             2009         0         0  \n",
       "1             2008         0         0  \n",
       "2             2011         0         0  \n",
       "3             2011         0         0  \n",
       "4             2011         0         0  \n",
       "\n",
       "[5 rows x 23 columns]"
      ]
     },
     "execution_count": 39,
     "metadata": {},
     "output_type": "execute_result"
    }
   ],
   "source": [
    "DF = pd.merge(people_orgs, outputs, on='PUBLICATION_ID')\n",
    "DF.head()"
   ]
  },
  {
   "cell_type": "code",
   "execution_count": 20,
   "metadata": {
    "collapsed": false
   },
   "outputs": [
    {
     "data": {
      "text/plain": [
       "array(['ENGL', 'CHEM', 'SPAI', 'HIST', 'SOCS', 'ARTF', 'SSCM', 'BISC',\n",
       "       'LCVS', 'VESC', 'ORDS', 'MECH', 'THRS', 'AERO', 'EENG', 'EDUC',\n",
       "       'CLAS', 'IFAC', 'SPOL', 'GEOG', 'PHPH', 'LAWD', 'MATH', 'PSYC',\n",
       "       'ACFI', 'BIOC', 'EMAT', 'FATV', 'PANM', 'PHYS', 'PHIL', 'MGRC',\n",
       "       'THTR', 'CIVE', 'DFAS', 'MODL', 'GELY', 'VCAD', 'MVEN', 'NCCC',\n",
       "       'COSC', 'ITAL', 'GERM', 'EFIM', 'MEED', 'QUEN', 'HUMS', 'ARCH',\n",
       "       'ORED', 'FREN', 'MUSI', 'ENGF', 'VGEN', 'ECON', 'ISYS', 'ANAT',\n",
       "       'VPIM', 'IMAN', 'HART', 'MDYF', 'MSAD', 'SITG', 'MVSF', 'CRSM',\n",
       "       'DPPP', 'VICH', 'RUSS', 'ATHF', 'PERS', 'NSQI', 'GSEN', 'BPRO',\n",
       "       'INOV', 'SCIF', 'BCAP', 'ADMO', 'HILA', 'IPSS', 'INTL', 'FINC',\n",
       "       'LANG', 'WILL', 'CARA', 'STHE', 'BFAC', 'BRDC', 'FSTA', 'SAFE',\n",
       "       'READ', 'CMPO', 'ADSI', 'UNPA', 'ITEL', 'INFO', 'OPPO', 'TSSP',\n",
       "       'SSLF', 'WIDE', 'SART', 'CABI', 'PRIN'], dtype=object)"
      ]
     },
     "execution_count": 20,
     "metadata": {},
     "output_type": "execute_result"
    }
   ],
   "source": [
    "orgs.ORGANISATION_CODE.unique()"
   ]
  },
  {
   "cell_type": "code",
   "execution_count": 17,
   "metadata": {
    "collapsed": false
   },
   "outputs": [
    {
     "data": {
      "text/plain": [
       "array(['FOAT', 'ACAD', 'FMDY', 'FENG', 'FSCI', 'FSSL', 'UNIV', 'SUPP',\n",
       "       'DEST', 'DRCO', 'DPER'], dtype=object)"
      ]
     },
     "execution_count": 17,
     "metadata": {},
     "output_type": "execute_result"
    }
   ],
   "source": [
    "orgs.GRANDPARENT_CODE.unique()"
   ]
  },
  {
   "cell_type": "code",
   "execution_count": 19,
   "metadata": {
    "collapsed": false
   },
   "outputs": [
    {
     "data": {
      "text/plain": [
       "array(['HUMS', 'FSCI', 'FSSL', 'FMDY', 'FOAT', 'VESC', 'QUEN', 'MVEN',\n",
       "       'PHYS', 'FMVS', 'EFIM', 'SART', 'FENG', 'CORP', 'MODL', 'DRES',\n",
       "       'DITS', 'CHSE', 'DLIB', 'DEST', 'DRAA', 'DSPP', 'DSTM', 'DSEH',\n",
       "       'DPER', 'PROM', 'DFIN', 'RESS', 'DSTS', 'SOFM', 'DARG', 'DCMM',\n",
       "       'PERS', 'INST'], dtype=object)"
      ]
     },
     "execution_count": 19,
     "metadata": {},
     "output_type": "execute_result"
    }
   ],
   "source": [
    "orgs.PARENT_CODE.unique()"
   ]
  },
  {
   "cell_type": "code",
   "execution_count": 61,
   "metadata": {
    "collapsed": false
   },
   "outputs": [],
   "source": [
    "publication_orgs = {}\n",
    "for pubid in DF.PUBLICATION_ID.unique():\n",
    "    wds = DF.loc[DF.PUBLICATION_ID==pubid].PARENT_CODE.unique()    \n",
    "    if len(wds) > 1:\n",
    "        yr = DF.loc[DF.PUBLICATION_ID==pubid].PUBLICATION_YEAR.values[0]\n",
    "        if yr not in publication_orgs.keys():\n",
    "            publication_orgs[yr] = {}\n",
    "        for w in itertools.permutations(wds,2):\n",
    "            if w in publication_orgs[yr].keys():\n",
    "                publication_orgs[yr][w]+=1\n",
    "            else: \n",
    "                publication_orgs[yr][w]=1\n",
    "            "
   ]
  },
  {
   "cell_type": "code",
   "execution_count": null,
   "metadata": {
    "collapsed": false
   },
   "outputs": [],
   "source": []
  },
  {
   "cell_type": "code",
   "execution_count": 64,
   "metadata": {
    "collapsed": false
   },
   "outputs": [],
   "source": [
    "pd.DataFrame(publication_orgs).to_csv(path+'publications_orgs_count.csv')"
   ]
  },
  {
   "cell_type": "code",
   "execution_count": 55,
   "metadata": {
    "collapsed": false
   },
   "outputs": [
    {
     "data": {
      "text/plain": [
       "array(['QUEN', 'MVEN'], dtype=object)"
      ]
     },
     "execution_count": 55,
     "metadata": {},
     "output_type": "execute_result"
    }
   ],
   "source": [
    "publication_orgs[2719745][0]"
   ]
  },
  {
   "cell_type": "code",
   "execution_count": null,
   "metadata": {
    "collapsed": true
   },
   "outputs": [],
   "source": []
  }
 ],
 "metadata": {
  "kernelspec": {
   "display_name": "Python 2",
   "language": "python",
   "name": "python2"
  },
  "language_info": {
   "codemirror_mode": {
    "name": "ipython",
    "version": 2
   },
   "file_extension": ".py",
   "mimetype": "text/x-python",
   "name": "python",
   "nbconvert_exporter": "python",
   "pygments_lexer": "ipython2",
   "version": "2.7.13"
  }
 },
 "nbformat": 4,
 "nbformat_minor": 2
}
