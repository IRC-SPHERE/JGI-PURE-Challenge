{
 "cells": [
  {
   "cell_type": "code",
   "execution_count": 1,
   "metadata": {
    "collapsed": true
   },
   "outputs": [],
   "source": [
    "import numpy as np\n",
    "import scipy as sp\n",
    "import pandas as pd\n",
    "import matplotlib as plt"
   ]
  },
  {
   "cell_type": "code",
   "execution_count": 2,
   "metadata": {
    "collapsed": true
   },
   "outputs": [],
   "source": [
    "from __future__ import print_function\n",
    "from sklearn.feature_extraction.text import CountVectorizer\n",
    "from sklearn.decomposition import LatentDirichletAllocation"
   ]
  },
  {
   "cell_type": "code",
   "execution_count": 3,
   "metadata": {
    "collapsed": true
   },
   "outputs": [],
   "source": [
    "def print_top_words(model, feature_names, n_top_words):\n",
    "    for topic_idx, topic in enumerate(model.components_):\n",
    "        print(\"Topic #%d:\" % topic_idx)\n",
    "        print(\" \".join([feature_names[i]\n",
    "                        for i in topic.argsort()[:-n_top_words - 1:-1]]))\n",
    "    print()"
   ]
  },
  {
   "cell_type": "code",
   "execution_count": 12,
   "metadata": {},
   "outputs": [],
   "source": [
    "outputs = pd.read_csv('./outputs.csv')\n",
    "outputs = outputs.fillna(0)"
   ]
  },
  {
   "cell_type": "code",
   "execution_count": 13,
   "metadata": {
    "collapsed": true
   },
   "outputs": [],
   "source": [
    "outputs.loc[outputs.ABSTRACT==0,'ABSTRACT']=' '"
   ]
  },
  {
   "cell_type": "code",
   "execution_count": 14,
   "metadata": {},
   "outputs": [],
   "source": [
    "docs = map(lambda i: outputs.TITLE[i]+outputs.ABSTRACT[i], range(outputs.shape[0]))"
   ]
  },
  {
   "cell_type": "code",
   "execution_count": 28,
   "metadata": {},
   "outputs": [],
   "source": [
    "tf_vectorizer = CountVectorizer(max_df=0.8, min_df=2,\n",
    "                                max_features=3000,\n",
    "                                stop_words='english')"
   ]
  },
  {
   "cell_type": "code",
   "execution_count": 29,
   "metadata": {
    "collapsed": true
   },
   "outputs": [],
   "source": [
    "doc_word_mtrx = tf_vectorizer.fit_transform(docs)"
   ]
  },
  {
   "cell_type": "code",
   "execution_count": 64,
   "metadata": {},
   "outputs": [],
   "source": [
    "for w in tf_vectorizer.vocabulary_.keys():\n",
    "    if len(w) < 3 or w.isdigit():\n",
    "        del tf_vectorizer.vocabulary_[w]"
   ]
  },
  {
   "cell_type": "code",
   "execution_count": 66,
   "metadata": {},
   "outputs": [],
   "source": [
    "doc_word_mtrx = tf_vectorizer.transform(docs)"
   ]
  },
  {
   "cell_type": "code",
   "execution_count": 67,
   "metadata": {
    "collapsed": true
   },
   "outputs": [],
   "source": [
    "lda = LatentDirichletAllocation(n_topics=50, max_iter=30,\n",
    "                                learning_method='online',\n",
    "                                learning_offset=50.,\n",
    "                                random_state=0,\n",
    "                                n_jobs=1)"
   ]
  },
  {
   "cell_type": "code",
   "execution_count": 68,
   "metadata": {},
   "outputs": [
    {
     "data": {
      "text/plain": [
       "LatentDirichletAllocation(batch_size=128, doc_topic_prior=None,\n",
       "             evaluate_every=-1, learning_decay=0.7,\n",
       "             learning_method='online', learning_offset=50.0,\n",
       "             max_doc_update_iter=100, max_iter=30, mean_change_tol=0.001,\n",
       "             n_jobs=1, n_topics=50, perp_tol=0.1, random_state=0,\n",
       "             topic_word_prior=None, total_samples=1000000.0, verbose=0)"
      ]
     },
     "execution_count": 68,
     "metadata": {},
     "output_type": "execute_result"
    }
   ],
   "source": [
    "lda.fit(doc_word_mtrx)"
   ]
  },
  {
   "cell_type": "code",
   "execution_count": 70,
   "metadata": {
    "scrolled": true
   },
   "outputs": [
    {
     "name": "stdout",
     "output_type": "stream",
     "text": [
      "Topic #0:\n",
      "silicon type legal diseases folate reactive identifies native emission start\n",
      "Topic #1:\n",
      "represented paper switch numbers requirements economy composed proposed movements recall\n",
      "Topic #2:\n",
      "solutions cancer circulation participants injection justice canine gain task variation\n",
      "Topic #3:\n",
      "weld neurons rat sensing snps actual longitudinal steady days china\n",
      "Topic #4:\n",
      "reveals way plate studied traffic times parameter consistent contemporary evolution\n",
      "Topic #5:\n",
      "months personal determining soil pattern patients enhanced greatly dynamics orientation\n",
      "Topic #6:\n",
      "enable class preference nanoparticles transition tree classification key intact largely\n",
      "Topic #7:\n",
      "smokers types diseases assumptions surgery exposed methyl costs explore english\n",
      "Topic #8:\n",
      "applying type candidate importance cancer occur ocean composite follow pathological\n",
      "Topic #9:\n",
      "treatment newly criterion nhs run transport utility simulated extension modelled\n",
      "Topic #10:\n",
      "incorporated explicitly quasi models logistic terrestrial emission developments corresponding mitochondrial\n",
      "Topic #11:\n",
      "immediately theoretical diseases basic food idea harm implications provision hazard\n",
      "Topic #12:\n",
      "feasibility extremely eye currently conducted green conference program predictors rise\n",
      "Topic #13:\n",
      "skills phylogenetic existence particle investigated described inversion investigate mass minimum\n",
      "Topic #14:\n",
      "experience occurred institutional political wild instrument load loci requiring produces\n",
      "Topic #15:\n",
      "metabolic standard turbine media standards direct entire geometric obese view\n",
      "Topic #16:\n",
      "cftr offspring diseases bit prenatal effectiveness vascular smokers relation english\n",
      "Topic #17:\n",
      "computed antigen constraints concentrations reading simultaneous concept computing fetal circulating\n",
      "Topic #18:\n",
      "evaluate relevance unclear lead world writing apparent asymptotic cellular variable\n",
      "Topic #19:\n",
      "configurations information communication processing proposed methylation types pressure loop teachers\n",
      "Topic #20:\n",
      "ray problems impairment politics dog showed problem mineral pathways suggests\n",
      "Topic #21:\n",
      "described skin character interactions common treat appeared travel considers limb\n",
      "Topic #22:\n",
      "ice developing morphological compositions changed test mathematical therapeutic possibility analyzed\n",
      "Topic #23:\n",
      "collection eruption large combining comparative symptom symptoms design object settings\n",
      "Topic #24:\n",
      "induction industrial rotor referred raised nucleotide disruption morphology flexibility raman\n",
      "Topic #25:\n",
      "traditional teachers broad focus clustering bristol schools beneath question fluxes\n",
      "Topic #26:\n",
      "phase applied peptides investigations correlated contain solutions role native particularly\n",
      "Topic #27:\n",
      "true dynamical synthetic microwave portion tumor prevent sympathetic prevalence diffusion\n",
      "Topic #28:\n",
      "molecules vivo follow suitable exposed members information service females exercise\n",
      "Topic #29:\n",
      "retrospective continue clinically exploring working versus supporting characterisation organization vascular\n",
      "Topic #30:\n",
      "2019s 200a exposures review summer driven exhibits cholesterol prove governance\n",
      "Topic #31:\n",
      "vision reductions city injecting surveys critically weathering status morphology morphological\n",
      "Topic #32:\n",
      "persistent person subjected membrane subject zones path situ angiogenesis extended\n",
      "Topic #33:\n",
      "varies french created offered integrated formed peak terminal crust interface\n",
      "Topic #34:\n",
      "myocardial events bed behavior dna enabling calibration varied range root\n",
      "Topic #35:\n",
      "types continuous volume monitoring comparable rules electrical international include plasma\n",
      "Topic #36:\n",
      "differential waist macrophages points identify wales solution modeling inform creep\n",
      "Topic #37:\n",
      "compliance complications researchers schizophrenia reserved applications childhood spatial obtained whilst\n",
      "Topic #38:\n",
      "professional injecting hydrogen morphological time zone evoked modeled relationship depend\n",
      "Topic #39:\n",
      "socio style difficult barrier confounding classes policies stimulated cortisol observations\n",
      "Topic #40:\n",
      "outside oxidation presentation ethnic entry smokers switching tev dataset place\n",
      "Topic #41:\n",
      "promising fast exists nuclear novel greater single violence injecting illustrated\n",
      "Topic #42:\n",
      "gan interactions solid discussion similarity justice medium human explore secretion\n",
      "Topic #43:\n",
      "acts institute folding configuration fatigue fold point composites noise principle\n",
      "Topic #44:\n",
      "substitution optical immediate stochastic second spectrometry outcomes serum participation intensity\n",
      "Topic #45:\n",
      "inequalities usual internet history safe separate validation relations cent manual\n",
      "Topic #46:\n",
      "stresses urban eating detect explained best cell uncertainty 00e9 team\n",
      "Topic #47:\n",
      "probe construct eruption probably lattice ongoing weather inherent valuable database\n",
      "Topic #48:\n",
      "school variations aware prospective incorporating attenuated cohort psychological perspective moisture\n",
      "Topic #49:\n",
      "ultrasonic having physical channel performing head strategies technology structural inhibition\n",
      "\n"
     ]
    }
   ],
   "source": [
    "n_top_words = 10\n",
    "tf_feature_names = tf_vectorizer.get_feature_names()\n",
    "print_top_words(lda, tf_feature_names, n_top_words)"
   ]
  },
  {
   "cell_type": "code",
   "execution_count": 71,
   "metadata": {},
   "outputs": [],
   "source": [
    "doc_topic = lda.transform(doc_word_mtrx)"
   ]
  },
  {
   "cell_type": "code",
   "execution_count": 72,
   "metadata": {},
   "outputs": [],
   "source": [
    "dp = np.argsort(doc_topic,1)[:,-1]"
   ]
  },
  {
   "cell_type": "code",
   "execution_count": 73,
   "metadata": {},
   "outputs": [],
   "source": [
    "ids = np.array(range(len(docs)))\n",
    "ids"
   ]
  },
  {
   "cell_type": "code",
   "execution_count": 77,
   "metadata": {},
   "outputs": [
    {
     "name": "stdout",
     "output_type": "stream",
     "text": [
      "Risk and uncertainty in hydrometeorological hazards \n",
      "Causal Uncertainty and Proportional Liability in England and Wales \n",
      "The Fat-Fed Apolipoprotein E Knockout Mouse as a Model of Atherosclerotic Plaque Rupture \n",
      "Aluminium in the diet, cognitive decline and dementiaIn recent years, interest in the potential role of metals in the pathogenesis of Alzheimer\\2019s disease (AD) has grown considerably. In particular, aluminium (Al) neurotoxicity was suggested after its discovery in the senile plaques and neurofibrillary tangles that represent the principal neuropathological hallmarks of AD. Al is omnipresent in everyday life, and can enter the human body from several sources, most notably from drinking water and food consumption. The evidence supporting association from ingestion of Al from drinking water is somewhat stronger than for its ingestion from food. However, other elements present in drinking water, such as fluoride, copper, zinc or iron could also have an effect on cognitive impairment or modify any Al neurotoxicity. Some epidemiological studies, but not all, suggested that silica could be protective against Al damage, because it reduced oral absorption of Al and/or enhanced Al excretion. Some epidemiological investigations suggested an association between chronic exposure to Al and risk of AD, although this relationship falls short of all the criteria generally attributed to causation. Future studies need to more rigorously test the validity of previous findings and, in doing so, attempt to identify dose-response relationships between Al and AD risk, which may provide new routes to disease-modifying treatment of AD or possibly some lifestyle modification, to supplement existing symptomatic approaches.\n",
      "The use of composite scores to assess adherence to dietary patterns: the Mediterranean diet caseThe association of diet with chronic disease has been well documented, and in recent years, research interest has focused on the investigation of whole dietary patterns, instead of single nutrients, for the prevention, and/or treatment of several diseases. The Mediterranean diet is recommended to the Western world as a dietary pattern that is both palatable and healthy, and that can be easily incorporated within a modern lifestyle. Although it is difficult to establish a definition of the \\2018typical\\2019 traditional Mediterranean diet, Mediterranean dietary patterns share eight characteristics that differentiate them from American and northern European food cultures. In particular: a high ratio of monounsaturated to saturated fat (MUFA:SFA); high intake of vegetables; fruits, nuts and seeds; legumes/ pulses; (mainly unrefined) cereals; a low-to-moderate intake of dairy products; low intake of meat, meat products and poultry; and moderate alcohol consumption. In 1995, the use of an 8-unit \\2018a priori\\2019 dietary score to assess adherence to the Mediterranean diet was proposed, based on the above characteristics of this dietary pattern. This score was later revised to account for fish consumption, the intake of which in the Mediterranean diet was moderate-to-high. Since then, several studies have used adaptations of the original Mediterranean Diet Score, and found significant inverse associations between adherence and overall mortality, disease risk, and biomarkers of health, as well as positive associations with survival. Further, the score has been utilised to detect dietary improvements in nutrition intervention studies. The purpose of this chapter is to describe and investigate the use of the original score and its adaptations in research studies, present the findings of studies utilising such indexes, and discuss validity and reliability issues for dietary assessment purposes. Suggestions for researchers wishing to employ Mediterranean diet indexes to investigate associations with chronic disease and assess adherence to the Mediterranean diet in the future will also be provided.\n",
      "Fairs, Feast Days and Carnival in Medieval Wales: Some Poetic Evidence \n",
      "Later prehistoric pottery \n",
      "Guaranteeing tender and healthy meat for the consumer \n",
      "Fostering adolescents in England: what contributes to success? \n",
      "Sisters under the Skin: Christine de Pizan and Margery Kempe \n"
     ]
    }
   ],
   "source": [
    "for i in ids[dp==2][:10]:\n",
    "    print (docs[i])"
   ]
  },
  {
   "cell_type": "code",
   "execution_count": null,
   "metadata": {
    "collapsed": true
   },
   "outputs": [],
   "source": []
  }
 ],
 "metadata": {
  "kernelspec": {
   "display_name": "Python 2",
   "language": "python",
   "name": "python2"
  },
  "language_info": {
   "codemirror_mode": {
    "name": "ipython",
    "version": 2
   },
   "file_extension": ".py",
   "mimetype": "text/x-python",
   "name": "python",
   "nbconvert_exporter": "python",
   "pygments_lexer": "ipython2",
   "version": "2.7.12"
  }
 },
 "nbformat": 4,
 "nbformat_minor": 2
}
