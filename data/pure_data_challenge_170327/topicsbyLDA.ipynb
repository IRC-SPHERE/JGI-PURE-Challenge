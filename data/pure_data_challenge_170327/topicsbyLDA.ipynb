{
 "cells": [
  {
   "cell_type": "code",
   "execution_count": 2,
   "metadata": {
    "collapsed": true
   },
   "outputs": [],
   "source": [
    "from __future__ import print_function\n",
    "import numpy as np\n",
    "import scipy as sp\n",
    "import pandas as pd\n",
    "import matplotlib as plt\n",
    "import subprocess"
   ]
  },
  {
   "cell_type": "code",
   "execution_count": 3,
   "metadata": {
    "collapsed": true
   },
   "outputs": [],
   "source": [
    "from sklearn.feature_extraction.text import CountVectorizer\n",
    "from sklearn.decomposition import LatentDirichletAllocation\n",
    "from sklearn.metrics.pairwise import cosine_similarity"
   ]
  },
  {
   "cell_type": "code",
   "execution_count": 4,
   "metadata": {
    "collapsed": true
   },
   "outputs": [],
   "source": [
    "def print_top_words(tf_idf, feature_names, n_top_words):\n",
    "    for topic_idx, topic in enumerate(tf_idf):\n",
    "        #print(topic.shape)\n",
    "        print(\"Topic #%d:\" % topic_idx)\n",
    "        print(\" \".join([feature_names[i]\n",
    "                        for i in topic.argsort()[:-n_top_words - 1:-1]]))\n",
    "    print()"
   ]
  },
  {
   "cell_type": "code",
   "execution_count": 6,
   "metadata": {},
   "outputs": [
    {
     "data": {
      "text/plain": [
       "'\\nw = len(\\'Abstract\\')\\npids = filtered.loc[filtered.ABSTRACT==\\' \\'].index\\nfor p in pids:\\n    t = filtered.loc[p,\\'TITLE\\']\\n    print (t)\\n    cmd = \"python /home/yu/gits/scholar/scholar.py -c 1 -t --phrase \\'\"+t+\"\\'\"+\" --csv\"\\n    print (cmd)\\n    result = subprocess.check_output(cmd, shell=True)\\n    print (result)\\n    filtered.loc[p,\\'ABSTRACT\\'] = result.split(\\'|\\')[-1][w:]\\n    break\\n'"
      ]
     },
     "execution_count": 6,
     "metadata": {},
     "output_type": "execute_result"
    }
   ],
   "source": [
    "'''\n",
    "w = len('Abstract')\n",
    "pids = filtered.loc[filtered.ABSTRACT==' '].index\n",
    "for p in pids:\n",
    "    t = filtered.loc[p,'TITLE']\n",
    "    print (t)\n",
    "    cmd = \"python /home/yu/gits/scholar/scholar.py -c 1 -t --phrase '\"+t+\"'\"+\" --csv\"\n",
    "    print (cmd)\n",
    "    result = subprocess.check_output(cmd, shell=True)\n",
    "    print (result)\n",
    "    filtered.loc[p,'ABSTRACT'] = result.split('|')[-1][w:]\n",
    "    break\n",
    "'''"
   ]
  },
  {
   "cell_type": "code",
   "execution_count": 81,
   "metadata": {},
   "outputs": [],
   "source": [
    "publications = pd.read_csv('filtered_outputs.csv')\n",
    "people = pd.read_csv('people_orgs.csv')"
   ]
  },
  {
   "cell_type": "code",
   "execution_count": 87,
   "metadata": {
    "collapsed": true
   },
   "outputs": [],
   "source": [
    "publications['topic'] = -1"
   ]
  },
  {
   "cell_type": "code",
   "execution_count": 64,
   "metadata": {},
   "outputs": [
    {
     "data": {
      "text/html": [
       "<div>\n",
       "<table border=\"1\" class=\"dataframe\">\n",
       "  <thead>\n",
       "    <tr style=\"text-align: right;\">\n",
       "      <th></th>\n",
       "      <th>y2008</th>\n",
       "      <th>y2009</th>\n",
       "      <th>y2010</th>\n",
       "      <th>y2011</th>\n",
       "      <th>y2012</th>\n",
       "    </tr>\n",
       "  </thead>\n",
       "  <tbody>\n",
       "  </tbody>\n",
       "</table>\n",
       "</div>"
      ],
      "text/plain": [
       "Empty DataFrame\n",
       "Columns: [y2008, y2009, y2010, y2011, y2012]\n",
       "Index: []"
      ]
     },
     "execution_count": 64,
     "metadata": {},
     "output_type": "execute_result"
    }
   ],
   "source": [
    "topic_years = pd.DataFrame(columns=['y'+str(y) for y in range(2008,2014)])"
   ]
  },
  {
   "cell_type": "code",
   "execution_count": 96,
   "metadata": {
    "collapsed": true
   },
   "outputs": [],
   "source": [
    "tf_vectorizer = CountVectorizer(max_df=0.7, min_df=2,\n",
    "                                max_features=10000,\n",
    "                                stop_words='english')"
   ]
  },
  {
   "cell_type": "code",
   "execution_count": 97,
   "metadata": {
    "collapsed": true
   },
   "outputs": [],
   "source": [
    "T = 50\n",
    "lda = LatentDirichletAllocation(n_topics=T, max_iter=30,\n",
    "                                learning_method='online',\n",
    "                                learning_offset=50.,\n",
    "                                random_state=0,\n",
    "                                n_jobs=1)"
   ]
  },
  {
   "cell_type": "code",
   "execution_count": 99,
   "metadata": {},
   "outputs": [
    {
     "name": "stdout",
     "output_type": "stream",
     "text": [
      "2008\n",
      "2009\n",
      "2010\n",
      "2011\n",
      "2012\n",
      "2013\n"
     ]
    }
   ],
   "source": [
    "for year in range(2008,2014):\n",
    "    print(year)\n",
    "    filtered = publications.loc[publications.PUBLICATION_YEAR==year]\n",
    "    docs = map(lambda i: filtered.TITLE[i]+filtered.ABSTRACT[i], filtered.index)\n",
    "    \n",
    "    doc_word_mtrx = tf_vectorizer.fit_transform(docs)\n",
    "    for w in tf_vectorizer.vocabulary_.keys():\n",
    "        if len(w) < 3 or any(x.isdigit() for x in w):\n",
    "            del tf_vectorizer.vocabulary_[w]\n",
    "    doc_word_mtrx = tf_vectorizer.transform(docs)\n",
    "    \n",
    "    df = reduce(lambda x,y:x+y, doc_word_mtrx)\n",
    "    df = df.toarray()\n",
    "    df[df==0]=np.max(df)\n",
    "    \n",
    "    doc_topic=lda.fit_transform(doc_word_mtrx)\n",
    "    dp = np.argsort(doc_topic,1)[:,-1]\n",
    "    tp_doc_counts=np.zeros(T)\n",
    "    for t in range(T):\n",
    "        tp_doc_counts[t] = (dp==t).sum()\n",
    "        \n",
    "    trank = tp_doc_counts.argsort()\n",
    "    n_top_words = 50\n",
    "    tf_feature_names = tf_vectorizer.get_feature_names()\n",
    "    for t in range(T):\n",
    "        topic_years.loc[t,'y'+str(year)] = \",\".join(tf_feature_names[k] for k in lda.components_[trank[-t-1]].argsort()[:-n_top_words - 1:-1])\n",
    "        publications.loc[filtered.index[dp==trank[-t-1]],'topic'] = t"
   ]
  },
  {
   "cell_type": "code",
   "execution_count": 108,
   "metadata": {},
   "outputs": [],
   "source": [
    "topic_years.to_csv('topic_years.csv')"
   ]
  },
  {
   "cell_type": "code",
   "execution_count": 111,
   "metadata": {},
   "outputs": [
    {
     "data": {
      "text/plain": [
       "(3263,)"
      ]
     },
     "execution_count": 111,
     "metadata": {},
     "output_type": "execute_result"
    }
   ],
   "source": [
    "people.PERSON_ID.unique().shape"
   ]
  },
  {
   "cell_type": "code",
   "execution_count": 115,
   "metadata": {},
   "outputs": [],
   "source": [
    "people_topic = pd.merge(publications, people, on='PUBLICATION_ID')"
   ]
  },
  {
   "cell_type": "code",
   "execution_count": 129,
   "metadata": {
    "collapsed": true
   },
   "outputs": [],
   "source": [
    "topic_orgs = pd.DataFrame()\n",
    "for year in range(2008,2014):\n",
    "    #topic_orgs[year] = {}\n",
    "    ycol = 'y'+str(year)\n",
    "    for t in range(T):\n",
    "        topic_orgs.loc[t,ycol+'_num_people'] = people_topic.loc[(people_topic.PUBLICATION_YEAR==year)&(people_topic.topic==t)].PERSON_ID.unique().shape[0]\n",
    "        topic_orgs.loc[t,ycol+'_num_orgs'] = people_topic.loc[(people_topic.PUBLICATION_YEAR==year)&(people_topic.topic==t)].ORGANISATION_CODE.unique().shape[0]\n",
    "        topic_orgs.loc[t,ycol+'_num_docs'] = people_topic.loc[(people_topic.PUBLICATION_YEAR==year)&(people_topic.topic==t)].PUBLICATION_ID.unique().shape[0]\n",
    "        #topic_orgs[year][t]={'num_people':num_people,'num_orgs':num_orgs,'num_docs':num_docs}\n",
    "        "
   ]
  },
  {
   "cell_type": "code",
   "execution_count": 132,
   "metadata": {},
   "outputs": [],
   "source": [
    "topic_orgs.to_csv('topic_orgs.csv',index=False,float_format='%d')"
   ]
  },
  {
   "cell_type": "code",
   "execution_count": 122,
   "metadata": {},
   "outputs": [
    {
     "data": {
      "text/html": [
       "<div>\n",
       "<table border=\"1\" class=\"dataframe\">\n",
       "  <thead>\n",
       "    <tr style=\"text-align: right;\">\n",
       "      <th></th>\n",
       "      <th>PUBLICATION_ID</th>\n",
       "      <th>TITLE</th>\n",
       "      <th>TYPE_NO</th>\n",
       "      <th>TYPE_x</th>\n",
       "      <th>PUBLICATION_DAY</th>\n",
       "      <th>PUBLICATION_MONTH</th>\n",
       "      <th>PUBLICATION_YEAR</th>\n",
       "      <th>KEYWORDS</th>\n",
       "      <th>ABSTRACT</th>\n",
       "      <th>authors</th>\n",
       "      <th>...</th>\n",
       "      <th>SURNAME</th>\n",
       "      <th>ORGANISATION_CODE</th>\n",
       "      <th>TYPE_y</th>\n",
       "      <th>JOB_TITLE</th>\n",
       "      <th>START_DATE</th>\n",
       "      <th>END_DATE</th>\n",
       "      <th>PARENT_CODE</th>\n",
       "      <th>ORGANISATION_TYPE</th>\n",
       "      <th>FULL_NAME</th>\n",
       "      <th>GRANDPARENT_CODE</th>\n",
       "    </tr>\n",
       "  </thead>\n",
       "  <tbody>\n",
       "    <tr>\n",
       "      <th>0</th>\n",
       "      <td>89664436</td>\n",
       "      <td>Crossing the Black Atlantic for Africa or How ...</td>\n",
       "      <td>5005</td>\n",
       "      <td>contributiontobookanthology/chapter</td>\n",
       "      <td>0.0</td>\n",
       "      <td>0.0</td>\n",
       "      <td>2012</td>\n",
       "      <td>0</td>\n",
       "      <td>0</td>\n",
       "      <td>67324</td>\n",
       "      <td>...</td>\n",
       "      <td>Peters</td>\n",
       "      <td>MODL</td>\n",
       "      <td>staff</td>\n",
       "      <td>Lecturer in Latin American History (Political ...</td>\n",
       "      <td>01/09/2016</td>\n",
       "      <td>31/12/2199</td>\n",
       "      <td>FOAT</td>\n",
       "      <td>ACADEMIC SCHOOL</td>\n",
       "      <td>School of Modern Languages</td>\n",
       "      <td>ACAD</td>\n",
       "    </tr>\n",
       "    <tr>\n",
       "      <th>1</th>\n",
       "      <td>55265799</td>\n",
       "      <td>Central venous catheters and outcomes in hemod...</td>\n",
       "      <td>5005</td>\n",
       "      <td>contributiontobookanthology/chapter</td>\n",
       "      <td>0.0</td>\n",
       "      <td>11.0</td>\n",
       "      <td>2012</td>\n",
       "      <td>0</td>\n",
       "      <td>&lt;p&gt;A significant proportion of incident and pr...</td>\n",
       "      <td>58056</td>\n",
       "      <td>...</td>\n",
       "      <td>Power</td>\n",
       "      <td>SOCS</td>\n",
       "      <td>staff</td>\n",
       "      <td>Senior Lecturer</td>\n",
       "      <td>01/01/2015</td>\n",
       "      <td>31/12/2017</td>\n",
       "      <td>FMDY</td>\n",
       "      <td>ACADEMIC SCHOOL</td>\n",
       "      <td>School of Clinical Sciences</td>\n",
       "      <td>ACAD</td>\n",
       "    </tr>\n",
       "    <tr>\n",
       "      <th>2</th>\n",
       "      <td>53490655</td>\n",
       "      <td>Communication as information use</td>\n",
       "      <td>5005</td>\n",
       "      <td>contributiontobookanthology/chapter</td>\n",
       "      <td>1.0</td>\n",
       "      <td>1.0</td>\n",
       "      <td>2011</td>\n",
       "      <td>0</td>\n",
       "      <td>&lt;p&gt;Introduction Uncertainty is an unavoidable ...</td>\n",
       "      <td>1968, 12503</td>\n",
       "      <td>...</td>\n",
       "      <td>McNamara</td>\n",
       "      <td>MATH</td>\n",
       "      <td>staff</td>\n",
       "      <td>Emeritus Professor</td>\n",
       "      <td>01/01/2016</td>\n",
       "      <td>31/12/2199</td>\n",
       "      <td>FSCI</td>\n",
       "      <td>ACADEMIC SCHOOL</td>\n",
       "      <td>School of Mathematics</td>\n",
       "      <td>ACAD</td>\n",
       "    </tr>\n",
       "    <tr>\n",
       "      <th>3</th>\n",
       "      <td>53490655</td>\n",
       "      <td>Communication as information use</td>\n",
       "      <td>5005</td>\n",
       "      <td>contributiontobookanthology/chapter</td>\n",
       "      <td>1.0</td>\n",
       "      <td>1.0</td>\n",
       "      <td>2011</td>\n",
       "      <td>0</td>\n",
       "      <td>&lt;p&gt;Introduction Uncertainty is an unavoidable ...</td>\n",
       "      <td>1968, 12503</td>\n",
       "      <td>...</td>\n",
       "      <td>McNamara</td>\n",
       "      <td>MATH</td>\n",
       "      <td>staff</td>\n",
       "      <td>Emeritus Professor</td>\n",
       "      <td>01/01/2016</td>\n",
       "      <td>31/12/2199</td>\n",
       "      <td>FSCI</td>\n",
       "      <td>ACADEMIC SCHOOL</td>\n",
       "      <td>School of Mathematics</td>\n",
       "      <td>ACAD</td>\n",
       "    </tr>\n",
       "    <tr>\n",
       "      <th>4</th>\n",
       "      <td>53490655</td>\n",
       "      <td>Communication as information use</td>\n",
       "      <td>5005</td>\n",
       "      <td>contributiontobookanthology/chapter</td>\n",
       "      <td>1.0</td>\n",
       "      <td>1.0</td>\n",
       "      <td>2011</td>\n",
       "      <td>0</td>\n",
       "      <td>&lt;p&gt;Introduction Uncertainty is an unavoidable ...</td>\n",
       "      <td>1968, 12503</td>\n",
       "      <td>...</td>\n",
       "      <td>McNamara</td>\n",
       "      <td>MATH</td>\n",
       "      <td>staff</td>\n",
       "      <td>Emeritus Professor</td>\n",
       "      <td>01/01/2016</td>\n",
       "      <td>31/12/2199</td>\n",
       "      <td>FSCI</td>\n",
       "      <td>ACADEMIC SCHOOL</td>\n",
       "      <td>School of Mathematics</td>\n",
       "      <td>ACAD</td>\n",
       "    </tr>\n",
       "  </tbody>\n",
       "</table>\n",
       "<p>5 rows × 26 columns</p>\n",
       "</div>"
      ],
      "text/plain": [
       "   PUBLICATION_ID                                              TITLE  TYPE_NO  \\\n",
       "0        89664436  Crossing the Black Atlantic for Africa or How ...     5005   \n",
       "1        55265799  Central venous catheters and outcomes in hemod...     5005   \n",
       "2        53490655                   Communication as information use     5005   \n",
       "3        53490655                   Communication as information use     5005   \n",
       "4        53490655                   Communication as information use     5005   \n",
       "\n",
       "                                TYPE_x  PUBLICATION_DAY  PUBLICATION_MONTH  \\\n",
       "0  contributiontobookanthology/chapter              0.0                0.0   \n",
       "1  contributiontobookanthology/chapter              0.0               11.0   \n",
       "2  contributiontobookanthology/chapter              1.0                1.0   \n",
       "3  contributiontobookanthology/chapter              1.0                1.0   \n",
       "4  contributiontobookanthology/chapter              1.0                1.0   \n",
       "\n",
       "   PUBLICATION_YEAR KEYWORDS  \\\n",
       "0              2012        0   \n",
       "1              2012        0   \n",
       "2              2011        0   \n",
       "3              2011        0   \n",
       "4              2011        0   \n",
       "\n",
       "                                            ABSTRACT      authors  \\\n",
       "0                                                  0        67324   \n",
       "1  <p>A significant proportion of incident and pr...        58056   \n",
       "2  <p>Introduction Uncertainty is an unavoidable ...  1968, 12503   \n",
       "3  <p>Introduction Uncertainty is an unavoidable ...  1968, 12503   \n",
       "4  <p>Introduction Uncertainty is an unavoidable ...  1968, 12503   \n",
       "\n",
       "        ...          SURNAME  ORGANISATION_CODE  TYPE_y  \\\n",
       "0       ...           Peters               MODL   staff   \n",
       "1       ...            Power               SOCS   staff   \n",
       "2       ...         McNamara               MATH   staff   \n",
       "3       ...         McNamara               MATH   staff   \n",
       "4       ...         McNamara               MATH   staff   \n",
       "\n",
       "                                           JOB_TITLE  START_DATE    END_DATE  \\\n",
       "0  Lecturer in Latin American History (Political ...  01/09/2016  31/12/2199   \n",
       "1                                    Senior Lecturer  01/01/2015  31/12/2017   \n",
       "2                                 Emeritus Professor  01/01/2016  31/12/2199   \n",
       "3                                 Emeritus Professor  01/01/2016  31/12/2199   \n",
       "4                                 Emeritus Professor  01/01/2016  31/12/2199   \n",
       "\n",
       "  PARENT_CODE ORGANISATION_TYPE                    FULL_NAME GRANDPARENT_CODE  \n",
       "0        FOAT   ACADEMIC SCHOOL   School of Modern Languages             ACAD  \n",
       "1        FMDY   ACADEMIC SCHOOL  School of Clinical Sciences             ACAD  \n",
       "2        FSCI   ACADEMIC SCHOOL        School of Mathematics             ACAD  \n",
       "3        FSCI   ACADEMIC SCHOOL        School of Mathematics             ACAD  \n",
       "4        FSCI   ACADEMIC SCHOOL        School of Mathematics             ACAD  \n",
       "\n",
       "[5 rows x 26 columns]"
      ]
     },
     "execution_count": 122,
     "metadata": {},
     "output_type": "execute_result"
    }
   ],
   "source": [
    "people_topic.head()"
   ]
  },
  {
   "cell_type": "code",
   "execution_count": 120,
   "metadata": {},
   "outputs": [
    {
     "data": {
      "text/plain": [
       "(5219, 13)"
      ]
     },
     "execution_count": 120,
     "metadata": {},
     "output_type": "execute_result"
    }
   ],
   "source": [
    "filtered.shape"
   ]
  },
  {
   "cell_type": "code",
   "execution_count": null,
   "metadata": {
    "collapsed": true
   },
   "outputs": [],
   "source": []
  }
 ],
 "metadata": {
  "kernelspec": {
   "display_name": "Python 2",
   "language": "python",
   "name": "python2"
  },
  "language_info": {
   "codemirror_mode": {
    "name": "ipython",
    "version": 2
   },
   "file_extension": ".py",
   "mimetype": "text/x-python",
   "name": "python",
   "nbconvert_exporter": "python",
   "pygments_lexer": "ipython2",
   "version": "2.7.12"
  }
 },
 "nbformat": 4,
 "nbformat_minor": 2
}
